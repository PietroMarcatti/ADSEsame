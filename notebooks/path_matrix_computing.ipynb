{
 "cells": [
  {
   "cell_type": "code",
   "execution_count": 1,
   "metadata": {},
   "outputs": [],
   "source": [
    "import pandas as pd\n",
    "import csv\n",
    "from collections import defaultdict\n",
    "\n",
    "paths_n1 = pd.read_csv('../datasets/n1.csv')\n",
    "paths_n2 = pd.read_csv('../datasets/n2.csv')\n",
    "paths_n3 = pd.read_csv('../datasets/n3.csv')\n",
    "paths_n4 = pd.read_csv('../datasets/n4.csv')\n",
    "all_paths = pd.concat([paths_n1,paths_n2,paths_n3,paths_n4], ignore_index= True)\n",
    "edges = pd.read_csv('../datasets/all_edges.csv',header=0)\n",
    "path_matrix = [[0]*195 for _ in range(len(all_paths))]\n",
    "for index,path in all_paths.iterrows():\n",
    "    for edge_num in range(23,13,-1):\n",
    "        if path.iloc[edge_num]>2104:\n",
    "            #print(f\"Edge number found {path.iloc[edge_num]}\")\n",
    "            path_matrix[index][path.iloc[edge_num-10]-1] = 1\n",
    "            #print(edges.iloc[path.iloc[edge_num]-1])\n",
    "            path_matrix[index][edges.iloc[path.iloc[edge_num]-1].iloc[3]-1] = 1\n",
    "        elif path.iloc[edge_num]>0:\n",
    "            #print(path.iloc[edge_num-10])\n",
    "            path_matrix[index][path.iloc[edge_num-10]-1] = 1\n",
    "    path_matrix[index][path.iloc[0]-1]=1\n",
    "\n",
    "file_name = \"../datasets/path_matrix_temp.csv\"\n",
    "with open(file_name, mode=\"w\", newline=\"\") as file:\n",
    "    writer = csv.writer(file)\n",
    "    writer.writerows(path_matrix)"
   ]
  }
 ],
 "metadata": {
  "kernelspec": {
   "display_name": ".venv",
   "language": "python",
   "name": "python3"
  },
  "language_info": {
   "codemirror_mode": {
    "name": "ipython",
    "version": 3
   },
   "file_extension": ".py",
   "mimetype": "text/x-python",
   "name": "python",
   "nbconvert_exporter": "python",
   "pygments_lexer": "ipython3",
   "version": "3.10.11"
  }
 },
 "nbformat": 4,
 "nbformat_minor": 2
}
